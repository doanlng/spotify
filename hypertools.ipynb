{
 "cells": [
  {
   "cell_type": "code",
   "execution_count": 1,
   "metadata": {},
   "outputs": [
    {
     "name": "stderr",
     "output_type": "stream",
     "text": [
      "C:\\Users\\doanl\\AppData\\Local\\Packages\\PythonSoftwareFoundation.Python.3.10_qbz5n2kfra8p0\\LocalCache\\local-packages\\Python310\\site-packages\\tqdm\\auto.py:22: TqdmWarning: IProgress not found. Please update jupyter and ipywidgets. See https://ipywidgets.readthedocs.io/en/stable/user_install.html\n",
      "  from .autonotebook import tqdm as notebook_tqdm\n"
     ]
    }
   ],
   "source": [
    "import hypertools as hyp\n",
    "import numpy as np\n",
    "import pandas as pd\n",
    "from numpy.linalg import norm\n",
    "from statistics import mean\n",
    "from sklearn.metrics.pairwise import cosine_similarity as cs\n",
    "import matplotlib.pyplot as plt\n"
   ]
  },
  {
   "cell_type": "code",
   "execution_count": 2,
   "metadata": {},
   "outputs": [],
   "source": [
    "df = pd.read_csv('currents_info.csv')\n",
    "tns = ['SHOOT!', 'Gone Girl', 'Yuck', 'Open Arms (feat. Travis Scott)', 'Kill Bill', 'Used (feat. Don Toliver)', 'we all try', 'Snooze', 'Used To Know Me',\n",
    "       'Sweet Life', \"Walk Em Down (Don't Kill Civilians) [with 21 Savage & feat. Mustafa]\", 'Pilot Jones', \"Don't Get Chipped\", 'JoHn Muir', 'TorcH']\n",
    "labels = df.columns[1:]\n",
    "angles = np.linspace(0, 2*np.pi, len(labels), endpoint=False)\n"
   ]
  },
  {
   "cell_type": "code",
   "execution_count": 3,
   "metadata": {},
   "outputs": [],
   "source": [
    "def scale(A):\n",
    "    A[2] = A[2] * .1\n",
    "    A[-1] = A[-1] * .001\n",
    "    A[3] = A[3] * .1\n",
    "    A[4] = A[4] * .1\n",
    "    return A"
   ]
  },
  {
   "cell_type": "code",
   "execution_count": 4,
   "metadata": {},
   "outputs": [],
   "source": [
    "def plot(A, B, tids):\n",
    "    fig = plt.figure(figsize=(18, 18))\n",
    "    ax = fig.add_subplot(221, polar=True)\n",
    "\n",
    "    ax.plot(angles, scale(A), 'o-', linewidth=2,\n",
    "            label=tids[0], color='blue')\n",
    "    ax.fill(angles, scale(A), alpha=0.25, facecolor='blue')\n",
    "\n",
    "    ax.plot(angles, scale(B), 'o-', linewidth=2,\n",
    "            label=tids[1], color='orange')\n",
    "    ax.fill(angles, scale(B), alpha=0.25, facecolor='orange')\n",
    "\n",
    "    ax.set_thetagrids(angles * 180/np.pi, labels, fontsize=13)\n",
    "\n",
    "    plt.legend(loc='best', bbox_to_anchor=(0.1, 0.1))\n",
    "\n",
    "    return fig"
   ]
  },
  {
   "cell_type": "code",
   "execution_count": null,
   "metadata": {},
   "outputs": [],
   "source": []
  }
 ],
 "metadata": {
  "kernelspec": {
   "display_name": "Python 3",
   "language": "python",
   "name": "python3"
  },
  "language_info": {
   "codemirror_mode": {
    "name": "ipython",
    "version": 3
   },
   "file_extension": ".py",
   "mimetype": "text/x-python",
   "name": "python",
   "nbconvert_exporter": "python",
   "pygments_lexer": "ipython3",
   "version": "3.10.9 (tags/v3.10.9:1dd9be6, Dec  6 2022, 20:01:21) [MSC v.1934 64 bit (AMD64)]"
  },
  "orig_nbformat": 4,
  "vscode": {
   "interpreter": {
    "hash": "b6024c3733f49ec76238c14db7574f4b3dbff08b48c1744b0d20cbae03657030"
   }
  }
 },
 "nbformat": 4,
 "nbformat_minor": 2
}
