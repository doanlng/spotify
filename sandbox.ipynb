{
 "cells": [
  {
   "cell_type": "code",
   "execution_count": 1,
   "metadata": {},
   "outputs": [],
   "source": [
    "from URItoCSVPipeline import URItoCSVPipeline\n",
    "pipe = URItoCSVPipeline()\n"
   ]
  },
  {
   "cell_type": "code",
   "execution_count": 2,
   "metadata": {},
   "outputs": [],
   "source": [
    "pipe.uri_to_csv(['https://open.spotify.com/playlist/37i9dQZF1EQncLwOalG3K7?si=dedcb523fffe47f9'],'pop_mixfeb2',['pop'])"
   ]
  },
  {
   "cell_type": "code",
   "execution_count": null,
   "metadata": {},
   "outputs": [],
   "source": [
    "pipe.uri_to_csv([\n",
    "    'https://open.spotify.com/playlist/37i9dQZF1DX0XUsuxWHRQd?si=1143c2b03411491e',\n",
    "    'https://open.spotify.com/playlist/37i9dQZF1DX0Tkc6ltcBfU?si=b240542625434f73',\n",
    "    'https://open.spotify.com/playlist/37i9dQZF1DWZwCeILEyQAy?si=9526f598bd9f4a42', \n",
    "    'https://open.spotify.com/playlist/37i9dQZF1DWUa8ZRTfalHk?si=dcf44d6a78054012',\n",
    "    'https://open.spotify.com/playlist/37i9dQZF1DX11otjJ7crqp?si=51e2cc8204a44ce4',\n",
    "    'https://open.spotify.com/playlist/37i9dQZF1DX4SBhb3fqCJd?si=9ac76426be4b4eff',\n",
    "    'https://open.spotify.com/playlist/37i9dQZF1DX7gIoKXt0gmx?si=952f8464ce40447e'\n",
    "],'5664dset',[\n",
    "    'rap', \n",
    "    'rap',\n",
    "    'rap',\n",
    "    'pop',\n",
    "    'pop',\n",
    "    'rnb',\n",
    "    'rnb'\n",
    "], ['Rap Caviar', 'No Cap', 'Pressure', 'Pop Rising', 'New Pop Picks', 'Are & Be', 'All the Feels'])"
   ]
  },
  {
   "attachments": {},
   "cell_type": "markdown",
   "metadata": {},
   "source": [
    "https://open.spotify.com/playlist/37i9dQZF1DX0XUsuxWHRQd?si=1143c2b03411491e - rap caviar\n",
    "https://open.spotify.com/playlist/37i9dQZF1DX0Tkc6ltcBfU?si=b240542625434f73 - no cap\n",
    "https://open.spotify.com/playlist/37i9dQZF1DWYojpWKpDMGi?si=de07de2dff404a5f - this is 21\n",
    "https://open.spotify.com/playlist/37i9dQZF1DWZwCeILEyQAy?si=9526f598bd9f4a42 - Pressure\n",
    "https://open.spotify.com/playlist/37i9dQZF1DWUa8ZRTfalHk?si=dcf44d6a78054012 - Pop Rising\n",
    "https://open.spotify.com/playlist/37i9dQZF1DX11otjJ7crqp?si=51e2cc8204a44ce4 - New Pop Picks\n",
    "https://open.spotify.com/playlist/37i9dQZF1DX4SBhb3fqCJd?si=9ac76426be4b4eff - Are & Be\n",
    "https://open.spotify.com/playlist/37i9dQZF1DX7gIoKXt0gmx?si=952f8464ce40447e - All the Feels"
   ]
  }
 ],
 "metadata": {
  "kernelspec": {
   "display_name": "Python 3",
   "language": "python",
   "name": "python3"
  },
  "language_info": {
   "codemirror_mode": {
    "name": "ipython",
    "version": 3
   },
   "file_extension": ".py",
   "mimetype": "text/x-python",
   "name": "python",
   "nbconvert_exporter": "python",
   "pygments_lexer": "ipython3",
   "version": "3.10.9 (tags/v3.10.9:1dd9be6, Dec  6 2022, 20:01:21) [MSC v.1934 64 bit (AMD64)]"
  },
  "orig_nbformat": 4,
  "vscode": {
   "interpreter": {
    "hash": "b6024c3733f49ec76238c14db7574f4b3dbff08b48c1744b0d20cbae03657030"
   }
  }
 },
 "nbformat": 4,
 "nbformat_minor": 2
}
