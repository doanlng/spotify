{
 "cells": [
  {
   "cell_type": "code",
   "execution_count": 1,
   "metadata": {},
   "outputs": [],
   "source": [
    "from SpotifyClient import SpotifyClient\n",
    "from TrackManager import TrackManager\n",
    "from PlaylistSandbox import PlaylistSandbox\n",
    "import pandas as pd"
   ]
  },
  {
   "cell_type": "code",
   "execution_count": 2,
   "metadata": {},
   "outputs": [],
   "source": [
    "def get_playlist_from_uri(uri):\n",
    "    '''\n",
    "        Returns a list of track ids that are associated the playlist from a uri\n",
    "    '''\n",
    "    try:\n",
    "        spotify = SpotifyClient([''])\n",
    "        playlist_uri = uri.split(\"/\")[-1].split('?')[0]\n",
    "        tids = [x[\"track\"][\"id\"]\n",
    "                for x in spotify.sp.playlist_tracks(playlist_uri)['items']]\n",
    "        return tids\n",
    "\n",
    "    except Exception as e:\n",
    "        print(e)\n"
   ]
  },
  {
   "cell_type": "code",
   "execution_count": 6,
   "metadata": {},
   "outputs": [],
   "source": [
    "rap_caviar = get_playlist_from_uri(\n",
    "    'https://open.spotify.com/playlist/37i9dQZF1DX0XUsuxWHRQd?si=108bfb0ca1e84301')\n",
    "teen_beats = get_playlist_from_uri(\n",
    "    'https://open.spotify.com/playlist/37i9dQZF1DX0XUsuxWHRQd?si=108bfb0ca1e84301')\n"
   ]
  },
  {
   "cell_type": "code",
   "execution_count": 8,
   "metadata": {},
   "outputs": [],
   "source": [
    "tm = TrackManager()\n",
    "rc_tracks = tm.get_info_list(rap_caviar)\n"
   ]
  },
  {
   "cell_type": "code",
   "execution_count": 3,
   "metadata": {},
   "outputs": [],
   "source": [
    "links = ['https://open.spotify.com/playlist/37i9dQZF1DXcBWIGoYBM5M?si=134c99f5aa574b53', #todays top hits\n",
    "         'https://open.spotify.com/playlist/37i9dQZF1DX0XUsuxWHRQd?si=997d7e19f6854376', #rap caviar\n",
    "         'https://open.spotify.com/playlist/37i9dQZF1DX2L0iB23Enbq?si=bb8b2166453d4f2a', #viral hits not working\n",
    "         'https://open.spotify.com/playlist/37i9dQZEVXbNG2KDcFcKOF?si=ddf08d067f7f40bc', #top songs global not working\n",
    "         'https://open.spotify.com/playlist/37i9dQZEVXbLp5XoPON0wI?si=b71c227801194f7c', #top songs usa\n",
    "         'https://open.spotify.com/playlist/37i9dQZEVXbMDoHDwVN2tF?si=820e83adb6454598', #top 50 global\n",
    "         'https://open.spotify.com/playlist/37i9dQZF1DX6GwdWRQMQpq?si=e8e94c9f97e64499', #feelin myself not working\n",
    "         'https://open.spotify.com/playlist/37i9dQZEVXbLiRSasKsNU9?si=4db947739649437c', #viral 50\n",
    "         'https://open.spotify.com/playlist/37i9dQZEVXbKuaTI1Z1Afx?si=44ef29da89a04183'] #viral 50 usa\n",
    "         \n",
    "\n",
    "playlists = [get_playlist_from_uri(pl) for pl in links]\n"
   ]
  },
  {
   "cell_type": "code",
   "execution_count": 36,
   "metadata": {},
   "outputs": [],
   "source": [
    "li = [pd.Series(names1), pd.Series(names2), pd.Series(names5), pd.Series(names7), pd.Series(names8)]\n",
    "columns = ['Todays_Top_Hits', 'Rap_Caviar', 'Top_Songs_USA', 'Top_50_Global', 'Viral_50', 'Viral_50_USA']"
   ]
  },
  {
   "cell_type": "code",
   "execution_count": 35,
   "metadata": {},
   "outputs": [],
   "source": [
    "names_df = pd.DataFrame({columns[0]: names_df[0]})\n"
   ]
  },
  {
   "cell_type": "code",
   "execution_count": 37,
   "metadata": {},
   "outputs": [],
   "source": [
    "for i in range(1, len(li)):\n",
    "    names_df[columns[i]] = li[i]\n"
   ]
  },
  {
   "cell_type": "code",
   "execution_count": 39,
   "metadata": {},
   "outputs": [
    {
     "data": {
      "text/html": [
       "<div>\n",
       "<style scoped>\n",
       "    .dataframe tbody tr th:only-of-type {\n",
       "        vertical-align: middle;\n",
       "    }\n",
       "\n",
       "    .dataframe tbody tr th {\n",
       "        vertical-align: top;\n",
       "    }\n",
       "\n",
       "    .dataframe thead th {\n",
       "        text-align: right;\n",
       "    }\n",
       "</style>\n",
       "<table border=\"1\" class=\"dataframe\">\n",
       "  <thead>\n",
       "    <tr style=\"text-align: right;\">\n",
       "      <th></th>\n",
       "      <th>Todays_Top_Hits</th>\n",
       "      <th>Rap_Caviar</th>\n",
       "      <th>Top_Songs_USA</th>\n",
       "      <th>Top_50_Global</th>\n",
       "      <th>Viral_50</th>\n",
       "    </tr>\n",
       "  </thead>\n",
       "  <tbody>\n",
       "    <tr>\n",
       "      <th>0</th>\n",
       "      <td>Flowers</td>\n",
       "      <td>Rich Flex</td>\n",
       "      <td>Flowers</td>\n",
       "      <td>Internet Trolls</td>\n",
       "      <td>Queen of Kings</td>\n",
       "    </tr>\n",
       "    <tr>\n",
       "      <th>1</th>\n",
       "      <td>Kill Bill</td>\n",
       "      <td>Superhero (Heroes &amp; Villains) [with Future &amp; C...</td>\n",
       "      <td>Kill Bill</td>\n",
       "      <td>Gangsta Boo (with Lil Tjay)</td>\n",
       "      <td>Kahani Suno 2.0</td>\n",
       "    </tr>\n",
       "    <tr>\n",
       "      <th>2</th>\n",
       "      <td>Love Again</td>\n",
       "      <td>Freestyle</td>\n",
       "      <td>Creepin' (with The Weeknd &amp; 21 Savage)</td>\n",
       "      <td>Conceited (feat. Lola Brooke &amp; Maiya The Don)</td>\n",
       "      <td>People</td>\n",
       "    </tr>\n",
       "    <tr>\n",
       "      <th>3</th>\n",
       "      <td>Escapism.</td>\n",
       "      <td>Just Wanna Rock</td>\n",
       "      <td>Superhero (Heroes &amp; Villains) [with Future &amp; C...</td>\n",
       "      <td>Hey, Mickey!</td>\n",
       "      <td>The Summoning</td>\n",
       "    </tr>\n",
       "    <tr>\n",
       "      <th>4</th>\n",
       "      <td>Creepin' (with The Weeknd &amp; 21 Savage)</td>\n",
       "      <td>Internet Trolls</td>\n",
       "      <td>Rich Flex</td>\n",
       "      <td>Players</td>\n",
       "      <td>Mi Amor</td>\n",
       "    </tr>\n",
       "  </tbody>\n",
       "</table>\n",
       "</div>"
      ],
      "text/plain": [
       "                          Todays_Top_Hits  \\\n",
       "0                                 Flowers   \n",
       "1                               Kill Bill   \n",
       "2                              Love Again   \n",
       "3                               Escapism.   \n",
       "4  Creepin' (with The Weeknd & 21 Savage)   \n",
       "\n",
       "                                          Rap_Caviar  \\\n",
       "0                                          Rich Flex   \n",
       "1  Superhero (Heroes & Villains) [with Future & C...   \n",
       "2                                          Freestyle   \n",
       "3                                    Just Wanna Rock   \n",
       "4                                    Internet Trolls   \n",
       "\n",
       "                                       Top_Songs_USA  \\\n",
       "0                                            Flowers   \n",
       "1                                          Kill Bill   \n",
       "2             Creepin' (with The Weeknd & 21 Savage)   \n",
       "3  Superhero (Heroes & Villains) [with Future & C...   \n",
       "4                                          Rich Flex   \n",
       "\n",
       "                                   Top_50_Global         Viral_50  \n",
       "0                                Internet Trolls   Queen of Kings  \n",
       "1                    Gangsta Boo (with Lil Tjay)  Kahani Suno 2.0  \n",
       "2  Conceited (feat. Lola Brooke & Maiya The Don)           People  \n",
       "3                                   Hey, Mickey!    The Summoning  \n",
       "4                                        Players          Mi Amor  "
      ]
     },
     "execution_count": 39,
     "metadata": {},
     "output_type": "execute_result"
    }
   ],
   "source": [
    "names_df.head(5)"
   ]
  },
  {
   "cell_type": "code",
   "execution_count": 40,
   "metadata": {},
   "outputs": [],
   "source": [
    "names_df.to_csv('Spotify_Playlists.csv')"
   ]
  },
  {
   "cell_type": "code",
   "execution_count": 9,
   "metadata": {},
   "outputs": [],
   "source": [
    "def get_names(tids):\n",
    "    spotify = SpotifyClient('playlist-read-collaborative')\n",
    "    return [spotify.sp.track(tid)['name'] for tid in tids]\n"
   ]
  },
  {
   "cell_type": "code",
   "execution_count": 12,
   "metadata": {},
   "outputs": [],
   "source": [
    "names1 = get_names(playlists[0])"
   ]
  },
  {
   "cell_type": "code",
   "execution_count": 15,
   "metadata": {},
   "outputs": [],
   "source": [
    "names2 = get_names(playlists[1])"
   ]
  },
  {
   "cell_type": "code",
   "execution_count": null,
   "metadata": {},
   "outputs": [],
   "source": [
    "names3 = get_names(playlists[2])"
   ]
  },
  {
   "cell_type": "code",
   "execution_count": null,
   "metadata": {},
   "outputs": [],
   "source": [
    "names4 = get_names(playlists[3])"
   ]
  },
  {
   "cell_type": "code",
   "execution_count": 21,
   "metadata": {},
   "outputs": [],
   "source": [
    "names5 = get_names(playlists[4])"
   ]
  },
  {
   "cell_type": "code",
   "execution_count": null,
   "metadata": {},
   "outputs": [],
   "source": [
    "names9 = get_names(playlists[5])\n"
   ]
  },
  {
   "cell_type": "code",
   "execution_count": 19,
   "metadata": {},
   "outputs": [],
   "source": [
    "names7 = get_names(playlists[6])"
   ]
  },
  {
   "cell_type": "code",
   "execution_count": 18,
   "metadata": {},
   "outputs": [],
   "source": [
    "names8 = get_names(playlists[7])\n"
   ]
  },
  {
   "cell_type": "code",
   "execution_count": 10,
   "metadata": {},
   "outputs": [],
   "source": [
    "tb_tracks = tm.get_info_list(teen_beats)"
   ]
  },
  {
   "cell_type": "code",
   "execution_count": 32,
   "metadata": {},
   "outputs": [
    {
     "data": {
      "text/plain": [
       "['Flowers',\n",
       " 'Kill Bill',\n",
       " 'Love Again',\n",
       " 'Escapism.',\n",
       " \"Creepin' (with The Weeknd & 21 Savage)\",\n",
       " 'Unholy (feat. Kim Petras)',\n",
       " 'Shakira: Bzrp Music Sessions, Vol. 53',\n",
       " 'Calm Down (with Selena Gomez)',\n",
       " 'Anti-Hero',\n",
       " 'golden hour',\n",
       " 'LET GO',\n",
       " 'As It Was',\n",
       " 'CUFF IT',\n",
       " \"I'm Good (Blue)\",\n",
       " 'Snooze',\n",
       " 'Here With Me',\n",
       " 'Last Night',\n",
       " 'I Like You (A Happier Song) (with Doja Cat)',\n",
       " \"I'm Not Here To Make Friends\",\n",
       " 'La Jumpa',\n",
       " '10:35',\n",
       " 'Made You Look',\n",
       " 'Ditto',\n",
       " 'Nonsense',\n",
       " 'Lavender Haze',\n",
       " 'Late Night Talking',\n",
       " 'LLYLM',\n",
       " 'Nobody Gets Me',\n",
       " 'Just Wanna Rock',\n",
       " \"I Ain't Worried\",\n",
       " 'Miss You',\n",
       " \"STAR WALKIN' (League of Legends Worlds Anthem)\",\n",
       " 'Players',\n",
       " 'Rich Flex',\n",
       " 'Until I Found You (with Em Beihold) - Em Beihold Version',\n",
       " 'Yandel 150',\n",
       " 'Something in the Orange',\n",
       " 'La Bachata',\n",
       " 'People',\n",
       " 'THE LONELIEST',\n",
       " 'Superhero (Heroes & Villains) [with Future & Chris Brown]',\n",
       " 'Bones',\n",
       " 'SPIT IN MY FACE!',\n",
       " 'Bad Habit',\n",
       " 'Tití Me Preguntó',\n",
       " 'Vegas (From the Original Motion Picture Soundtrack ELVIS)',\n",
       " \"Boy's a liar\",\n",
       " 'About Damn Time',\n",
       " 'Lift Me Up - From Black Panther: Wakanda Forever - Music From and Inspired By',\n",
       " 'Evergreen (You Didn’t Deserve Me At All)']"
      ]
     },
     "execution_count": 32,
     "metadata": {},
     "output_type": "execute_result"
    }
   ],
   "source": [
    "names1"
   ]
  },
  {
   "cell_type": "code",
   "execution_count": 14,
   "metadata": {},
   "outputs": [],
   "source": [
    "rc_df = pd.DataFrame(rc_tracks, columns=['danceability', 'energy', 'key', 'loudness', 'mode',\n",
    "                                               'speechiness', 'acousticness', 'instrumentalness', 'liveness', 'valence', 'tempo'])\n",
    "tb_df = pd.DataFrame(tb_tracks, columns=['danceability', 'energy', 'key', 'loudness', 'mode',\n",
    "                                                       'speechiness', 'acousticness', 'instrumentalness', 'liveness', 'valence', 'tempo'])\n"
   ]
  },
  {
   "cell_type": "code",
   "execution_count": null,
   "metadata": {},
   "outputs": [],
   "source": [
    "rc_df['genre'] = 'rap'\n",
    "tb_df['genre'] = 'not_rap'\n",
    "print(tb_df.head)"
   ]
  },
  {
   "cell_type": "code",
   "execution_count": 16,
   "metadata": {},
   "outputs": [],
   "source": [
    "df = pd.concat([rc_df, tb_df])"
   ]
  },
  {
   "cell_type": "code",
   "execution_count": 17,
   "metadata": {},
   "outputs": [],
   "source": [
    "df.to_csv('rapnotrap.csv')"
   ]
  }
 ],
 "metadata": {
  "kernelspec": {
   "display_name": "Python 3",
   "language": "python",
   "name": "python3"
  },
  "language_info": {
   "codemirror_mode": {
    "name": "ipython",
    "version": 3
   },
   "file_extension": ".py",
   "mimetype": "text/x-python",
   "name": "python",
   "nbconvert_exporter": "python",
   "pygments_lexer": "ipython3",
   "version": "3.10.9"
  },
  "orig_nbformat": 4,
  "vscode": {
   "interpreter": {
    "hash": "b6024c3733f49ec76238c14db7574f4b3dbff08b48c1744b0d20cbae03657030"
   }
  }
 },
 "nbformat": 4,
 "nbformat_minor": 2
}
